{
 "cells": [
  {
   "cell_type": "code",
   "execution_count": 2,
   "metadata": {},
   "outputs": [],
   "source": [
    "import random \n",
    "numeros = []\n",
    "for i in range (100):\n",
    "    numeros.append (random.randint(1,10))\n",
    "    "
   ]
  },
  {
   "cell_type": "code",
   "execution_count": 3,
   "metadata": {},
   "outputs": [
    {
     "name": "stdout",
     "output_type": "stream",
     "text": [
      "[5, 7, 8, 5, 1, 6, 2, 2, 3, 1, 7, 3, 9, 5, 3, 4, 3, 6, 5, 10, 4, 9, 9, 4, 4, 9, 5, 2, 5, 3, 2, 2, 7, 3, 2, 4, 6, 3, 2, 4, 3, 2, 4, 4, 7, 10, 5, 1, 1, 4, 5, 2, 10, 10, 4, 7, 7, 7, 3, 6, 8, 5, 5, 10, 1, 5, 6, 4, 7, 8, 3, 4, 1, 7, 7, 3, 10, 2, 6, 6, 5, 7, 7, 10, 8, 3, 4, 9, 6, 8, 3, 4, 2, 1, 4, 1, 2, 4, 9, 7]\n"
     ]
    }
   ],
   "source": [
    "print (numeros)"
   ]
  },
  {
   "cell_type": "markdown",
   "metadata": {},
   "source": [
    "Función de media con función sum y bucle for \n",
    "\n",
    "$\\frac{\\sum_0^N{X_i}}{N}$"
   ]
  },
  {
   "cell_type": "code",
   "execution_count": 4,
   "metadata": {},
   "outputs": [
    {
     "name": "stdout",
     "output_type": "stream",
     "text": [
      "El promedio de los datos es 4.98\n"
     ]
    }
   ],
   "source": [
    "def media (datos):\n",
    "    return sum (datos)/ len (datos)\n",
    "print (f'El promedio de los datos es {media (numeros)}')"
   ]
  },
  {
   "cell_type": "code",
   "execution_count": 5,
   "metadata": {},
   "outputs": [
    {
     "name": "stdout",
     "output_type": "stream",
     "text": [
      "El promedio de los datos es 4.98\n"
     ]
    }
   ],
   "source": [
    "def media_2 (datos):\n",
    "    suma= 0\n",
    "    for i in datos:\n",
    "        suma= suma+i\n",
    "    return suma/ len(datos)\n",
    "print (f'El promedio de los datos es {media_2 (numeros)}')\n"
   ]
  },
  {
   "cell_type": "markdown",
   "metadata": {},
   "source": [
    "Función mediana"
   ]
  },
  {
   "cell_type": "code",
   "execution_count": 25,
   "metadata": {},
   "outputs": [
    {
     "name": "stdout",
     "output_type": "stream",
     "text": [
      "La mediana es 5.0\n"
     ]
    }
   ],
   "source": [
    "def mediana (datos):\n",
    "    datos= sorted (datos)\n",
    "    n = len(datos)\n",
    "    if n%2 == 0:\n",
    "        return (datos [n//2]+datos[(n//2)-1])/2\n",
    "    else:\n",
    "        return datos [n//2]\n",
    "    \n",
    "print(f'La mediana es {mediana(numeros)}')\n",
    "\n",
    "    "
   ]
  },
  {
   "cell_type": "markdown",
   "metadata": {},
   "source": [
    "Moda de un conjunto"
   ]
  },
  {
   "cell_type": "code",
   "execution_count": 35,
   "metadata": {},
   "outputs": [
    {
     "name": "stdout",
     "output_type": "stream",
     "text": [
      "La moda es 4\n"
     ]
    }
   ],
   "source": [
    "def moda (datos):\n",
    "    unicos= set(datos)\n",
    "    mayor = -1\n",
    "    for i in unicos:\n",
    "        cuenta = datos.count(i)\n",
    "        if cuenta > datos.count(mayor):\n",
    "            mayor = i\n",
    "    return mayor\n",
    "\n",
    "print (f'La moda es {moda(numeros)}')\n"
   ]
  },
  {
   "cell_type": "markdown",
   "metadata": {},
   "source": [
    "Varianza de los datos"
   ]
  },
  {
   "cell_type": "code",
   "execution_count": 39,
   "metadata": {},
   "outputs": [
    {
     "name": "stdout",
     "output_type": "stream",
     "text": [
      "La varianza de los datos es 6.868282828282832\n"
     ]
    }
   ],
   "source": [
    "def varianza (datos):\n",
    "    suma= 0\n",
    "    med= media (datos)\n",
    "    for i in datos:\n",
    "        resta= i-med\n",
    "        cuadrado= (resta)**2\n",
    "        suma= suma+cuadrado\n",
    "    return suma/(len(datos))\n",
    "\n",
    "print (f'La varianza de los datos es {varianza (numeros)}')\n"
   ]
  },
  {
   "cell_type": "markdown",
   "metadata": {},
   "source": [
    "Desviación estandar de los datos"
   ]
  },
  {
   "cell_type": "code",
   "execution_count": 43,
   "metadata": {},
   "outputs": [
    {
     "name": "stdout",
     "output_type": "stream",
     "text": [
      "La desviación estandar de los datos es de 2.620740893007707\n"
     ]
    }
   ],
   "source": [
    "def desviacion_estandar (datos):\n",
    "    return varianza (datos)**(1/2)\n",
    "print (f'La desviación estandar de los datos es de {desviacion_estandar (numeros)}')"
   ]
  },
  {
   "cell_type": "code",
   "execution_count": 48,
   "metadata": {},
   "outputs": [
    {
     "name": "stdout",
     "output_type": "stream",
     "text": [
      "La desviación estandar de los datos es de 2.620740893007707\n"
     ]
    }
   ],
   "source": [
    "import math\n",
    "def desviacion_2 (datos):\n",
    "    return math.sqrt (varianza (datos))\n",
    "print (f'La desviación estandar de los datos es de {desviacion_2 (numeros)}')"
   ]
  },
  {
   "cell_type": "markdown",
   "metadata": {},
   "source": [
    "Coeficiente de variación de los datos en porcentaje"
   ]
  },
  {
   "cell_type": "code",
   "execution_count": 49,
   "metadata": {},
   "outputs": [
    {
     "name": "stdout",
     "output_type": "stream",
     "text": [
      "El coeficiente de variación es del 52.625319136700945%\n"
     ]
    }
   ],
   "source": [
    "def coef_var (datos):\n",
    "    return desviacion_estandar(datos)/media(datos)*100\n",
    "print (f'El coeficiente de variación es del {coef_var(numeros)}%')"
   ]
  },
  {
   "cell_type": "markdown",
   "metadata": {},
   "source": [
    "Normalización Z de los datos"
   ]
  },
  {
   "cell_type": "code",
   "execution_count": 52,
   "metadata": {},
   "outputs": [
    {
     "data": {
      "text/plain": [
       "1.9154888655317506"
      ]
     },
     "execution_count": 52,
     "metadata": {},
     "output_type": "execute_result"
    }
   ],
   "source": [
    "(10 - media(numeros))/desviacion_estandar(numeros)"
   ]
  },
  {
   "cell_type": "code",
   "execution_count": null,
   "metadata": {},
   "outputs": [],
   "source": []
  }
 ],
 "metadata": {
  "kernelspec": {
   "display_name": "Python 3",
   "language": "python",
   "name": "python3"
  },
  "language_info": {
   "codemirror_mode": {
    "name": "ipython",
    "version": 3
   },
   "file_extension": ".py",
   "mimetype": "text/x-python",
   "name": "python",
   "nbconvert_exporter": "python",
   "pygments_lexer": "ipython3",
   "version": "3.12.1"
  }
 },
 "nbformat": 4,
 "nbformat_minor": 2
}
