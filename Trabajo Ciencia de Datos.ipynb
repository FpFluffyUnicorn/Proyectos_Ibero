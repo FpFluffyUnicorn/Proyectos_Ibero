{
 "cells": [
  {
   "cell_type": "code",
   "execution_count": 5,
   "metadata": {},
   "outputs": [],
   "source": [
    "import random \n",
    "numeros = []\n",
    "for i in range (100):\n",
    "    numeros.append (random.randint(1,10))\n",
    "    "
   ]
  },
  {
   "cell_type": "code",
   "execution_count": 6,
   "metadata": {},
   "outputs": [
    {
     "name": "stdout",
     "output_type": "stream",
     "text": [
      "[4, 7, 5, 5, 7, 6, 3, 3, 7, 3, 2, 4, 10, 8, 10, 9, 10, 6, 1, 7, 10, 10, 2, 5, 7, 2, 2, 2, 5, 8, 4, 9, 3, 4, 9, 7, 9, 3, 5, 2, 2, 7, 3, 4, 1, 9, 7, 5, 4, 6, 1, 2, 5, 7, 3, 3, 5, 9, 2, 2, 10, 5, 9, 5, 6, 4, 7, 10, 1, 7, 10, 3, 6, 2, 7, 10, 10, 7, 3, 2, 6, 9, 3, 9, 3, 4, 9, 2, 6, 4, 6, 7, 5, 6, 4, 7, 10, 8, 4, 2]\n"
     ]
    }
   ],
   "source": [
    "print (numeros)"
   ]
  },
  {
   "cell_type": "markdown",
   "metadata": {},
   "source": [
    "Función de media con función sum y bucle for \n",
    "\n",
    "$\\frac{\\sum_0^N{X_i}}{N}$"
   ]
  },
  {
   "cell_type": "code",
   "execution_count": 7,
   "metadata": {},
   "outputs": [
    {
     "name": "stdout",
     "output_type": "stream",
     "text": [
      "El promedio de los datos es 5.5\n"
     ]
    }
   ],
   "source": [
    "def media (datos):\n",
    "    return sum (datos)/ len (datos)\n",
    "print (f'El promedio de los datos es {media (numeros)}')"
   ]
  },
  {
   "cell_type": "code",
   "execution_count": 8,
   "metadata": {},
   "outputs": [
    {
     "name": "stdout",
     "output_type": "stream",
     "text": [
      "El promedio de los datos es 5.5\n"
     ]
    }
   ],
   "source": [
    "def media_2 (datos):\n",
    "    suma= 0\n",
    "    for i in datos:\n",
    "        suma= suma+i\n",
    "    return suma/ len(datos)\n",
    "print (f'El promedio de los datos es {media_2 (numeros)}')\n"
   ]
  },
  {
   "cell_type": "markdown",
   "metadata": {},
   "source": [
    "Función mediana"
   ]
  },
  {
   "cell_type": "code",
   "execution_count": 9,
   "metadata": {},
   "outputs": [
    {
     "name": "stdout",
     "output_type": "stream",
     "text": [
      "La mediana es 5.0\n"
     ]
    }
   ],
   "source": [
    "def mediana (datos):\n",
    "    datos= sorted (datos)\n",
    "    n = len(datos)\n",
    "    if n%2 == 0:\n",
    "        return (datos [n//2]+datos[(n//2)-1])/2\n",
    "    else:\n",
    "        return datos [n//2]\n",
    "    \n",
    "print(f'La mediana es {mediana(numeros)}')\n",
    "\n",
    "    "
   ]
  },
  {
   "cell_type": "markdown",
   "metadata": {},
   "source": [
    "Moda de un conjunto"
   ]
  },
  {
   "cell_type": "code",
   "execution_count": 10,
   "metadata": {},
   "outputs": [
    {
     "name": "stdout",
     "output_type": "stream",
     "text": [
      "La moda es 7\n"
     ]
    }
   ],
   "source": [
    "def moda (datos):\n",
    "    unicos= set(datos)\n",
    "    mayor = -1\n",
    "    for i in unicos:\n",
    "        cuenta = datos.count(i)\n",
    "        if cuenta > datos.count(mayor):\n",
    "            mayor = i\n",
    "    return mayor\n",
    "\n",
    "print (f'La moda es {moda(numeros)}')\n"
   ]
  },
  {
   "cell_type": "markdown",
   "metadata": {},
   "source": [
    "Varianza de los datos"
   ]
  },
  {
   "cell_type": "code",
   "execution_count": 11,
   "metadata": {},
   "outputs": [
    {
     "name": "stdout",
     "output_type": "stream",
     "text": [
      "La varianza de los datos es 7.55\n"
     ]
    }
   ],
   "source": [
    "def varianza (datos):\n",
    "    suma= 0\n",
    "    med= media (datos)\n",
    "    for i in datos:\n",
    "        resta= i-med\n",
    "        cuadrado= (resta)**2\n",
    "        suma= suma+cuadrado\n",
    "    return suma/(len(datos))\n",
    "\n",
    "print (f'La varianza de los datos es {varianza (numeros)}')\n"
   ]
  },
  {
   "cell_type": "markdown",
   "metadata": {},
   "source": [
    "Desviación estandar de los datos"
   ]
  },
  {
   "cell_type": "code",
   "execution_count": 12,
   "metadata": {},
   "outputs": [
    {
     "name": "stdout",
     "output_type": "stream",
     "text": [
      "La desviación estandar de los datos es de 2.7477263328068173\n"
     ]
    }
   ],
   "source": [
    "def desviacion_estandar (datos):\n",
    "    return varianza (datos)**(1/2)\n",
    "print (f'La desviación estandar de los datos es de {desviacion_estandar (numeros)}')"
   ]
  },
  {
   "cell_type": "code",
   "execution_count": 13,
   "metadata": {},
   "outputs": [
    {
     "name": "stdout",
     "output_type": "stream",
     "text": [
      "La desviación estandar de los datos es de 2.7477263328068173\n"
     ]
    }
   ],
   "source": [
    "import math\n",
    "def desviacion_2 (datos):\n",
    "    return math.sqrt (varianza (datos))\n",
    "print (f'La desviación estandar de los datos es de {desviacion_2 (numeros)}')"
   ]
  },
  {
   "cell_type": "markdown",
   "metadata": {},
   "source": [
    "Coeficiente de variación de los datos en porcentaje"
   ]
  },
  {
   "cell_type": "code",
   "execution_count": 14,
   "metadata": {},
   "outputs": [
    {
     "name": "stdout",
     "output_type": "stream",
     "text": [
      "El coeficiente de variación es del 49.95866059648758%\n"
     ]
    }
   ],
   "source": [
    "def coef_var (datos):\n",
    "    return desviacion_estandar(datos)/media(datos)*100\n",
    "print (f'El coeficiente de variación es del {coef_var(numeros)}%')"
   ]
  },
  {
   "cell_type": "markdown",
   "metadata": {},
   "source": [
    "Normalización Z de los datos"
   ]
  },
  {
   "cell_type": "code",
   "execution_count": 16,
   "metadata": {},
   "outputs": [
    {
     "name": "stdout",
     "output_type": "stream",
     "text": [
      "[-0.5459058939351292, 0.5459058939351292, -0.18196863131170973, -0.18196863131170973, 0.5459058939351292, 0.18196863131170973, -0.9098431565585487, -0.9098431565585487, 0.5459058939351292, -0.9098431565585487, -1.2737804191819682, -0.5459058939351292, 1.6377176818053876, 0.9098431565585487, 1.6377176818053876, 1.2737804191819682, 1.6377176818053876, 0.18196863131170973, -1.6377176818053876, 0.5459058939351292, 1.6377176818053876, 1.6377176818053876, -1.2737804191819682, -0.18196863131170973, 0.5459058939351292, -1.2737804191819682, -1.2737804191819682, -1.2737804191819682, -0.18196863131170973, 0.9098431565585487, -0.5459058939351292, 1.2737804191819682, -0.9098431565585487, -0.5459058939351292, 1.2737804191819682, 0.5459058939351292, 1.2737804191819682, -0.9098431565585487, -0.18196863131170973, -1.2737804191819682, -1.2737804191819682, 0.5459058939351292, -0.9098431565585487, -0.5459058939351292, -1.6377176818053876, 1.2737804191819682, 0.5459058939351292, -0.18196863131170973, -0.5459058939351292, 0.18196863131170973, -1.6377176818053876, -1.2737804191819682, -0.18196863131170973, 0.5459058939351292, -0.9098431565585487, -0.9098431565585487, -0.18196863131170973, 1.2737804191819682, -1.2737804191819682, -1.2737804191819682, 1.6377176818053876, -0.18196863131170973, 1.2737804191819682, -0.18196863131170973, 0.18196863131170973, -0.5459058939351292, 0.5459058939351292, 1.6377176818053876, -1.6377176818053876, 0.5459058939351292, 1.6377176818053876, -0.9098431565585487, 0.18196863131170973, -1.2737804191819682, 0.5459058939351292, 1.6377176818053876, 1.6377176818053876, 0.5459058939351292, -0.9098431565585487, -1.2737804191819682, 0.18196863131170973, 1.2737804191819682, -0.9098431565585487, 1.2737804191819682, -0.9098431565585487, -0.5459058939351292, 1.2737804191819682, -1.2737804191819682, 0.18196863131170973, -0.5459058939351292, 0.18196863131170973, 0.5459058939351292, -0.18196863131170973, 0.18196863131170973, -0.5459058939351292, 0.5459058939351292, 1.6377176818053876, 0.9098431565585487, -0.5459058939351292, -1.2737804191819682]\n"
     ]
    }
   ],
   "source": [
    "def normalZ (datos):\n",
    "    z= []\n",
    "    for i in datos:\n",
    "        z.append ((i-media(datos))/desviacion_estandar(datos))\n",
    "    return z\n",
    "print (normalZ (numeros))"
   ]
  }
 ],
 "metadata": {
  "kernelspec": {
   "display_name": "Python 3",
   "language": "python",
   "name": "python3"
  },
  "language_info": {
   "codemirror_mode": {
    "name": "ipython",
    "version": 3
   },
   "file_extension": ".py",
   "mimetype": "text/x-python",
   "name": "python",
   "nbconvert_exporter": "python",
   "pygments_lexer": "ipython3",
   "version": "3.12.1"
  }
 },
 "nbformat": 4,
 "nbformat_minor": 2
}
